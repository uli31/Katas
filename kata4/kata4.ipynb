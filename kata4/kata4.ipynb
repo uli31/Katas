{
 "cells": [
  {
   "cell_type": "code",
   "execution_count": 6,
   "metadata": {},
   "outputs": [
    {
     "data": {
      "text/plain": [
       "['Interesting facts about the Moon',\n",
       " \"The Moon is Earth's only satellite\",\n",
       " 'There are several interesting facts about the Moon and how it affects life here on Earth',\n",
       " '\\nOn average, the Moon moves 4cm away from the Earth every year',\n",
       " 'This yearly drift is not significant enough to cause immediate effects on Earth',\n",
       " 'The highest']"
      ]
     },
     "execution_count": 6,
     "metadata": {},
     "output_type": "execute_result"
    }
   ],
   "source": [
    "text = \"\"\"Interesting facts about the Moon. The Moon is Earth's only satellite. There are several interesting facts about the Moon and how it affects life here on Earth. \n",
    "On average, the Moon moves 4cm away from the Earth every year. This yearly drift is not significant enough to cause immediate effects on Earth. The highest\"\"\"\n",
    "\n",
    "\n",
    "textoPorPartes= text.split('. ')\n"
   ]
  },
  {
   "cell_type": "code",
   "execution_count": null,
   "metadata": {},
   "outputs": [],
   "source": [
    "palabrasClaves=[ 'average', 'temperature' ,'distance']\n"
   ]
  },
  {
   "cell_type": "code",
   "execution_count": 6,
   "metadata": {},
   "outputs": [
    {
     "name": "stdout",
     "output_type": "stream",
     "text": [
      "average\n"
     ]
    }
   ],
   "source": [
    "text = \"\"\"Interesting facts about the Moon. The Moon is Earth's only satellite. There are several interesting facts about the Moon and how it affects life here on Earth. \n",
    "On average, the Moon moves 4cm away from the Earth every year. This yearly drift is not significant enough to cause immediate effects on Earth. The highest\"\"\"\n",
    "\n",
    "\n",
    "textoPorPartes= text.split('. ')\n",
    "palabrasClaves=[ 'average', 'temperature' ,'distance']\n",
    "\n",
    "\n",
    "\n",
    "for frases in textoPorPartes:\n",
    "    for palabrasClave in palabrasClaves:\n",
    "        if palabrasClave in frases:\n",
    "            print(palabrasClave)\n",
    "            "
   ]
  },
  {
   "cell_type": "code",
   "execution_count": 15,
   "metadata": {},
   "outputs": [
    {
     "name": "stdout",
     "output_type": "stream",
     "text": [
      "\" La Tierra Es Un Planeta Del Sistema Solar Que Gira Alrededor De Su Estrella  \n",
      "Nombre del planeta: Tierra \n",
      "Gravedad en Moon: 1.6199999999999999 m/s2 \n",
      "\n",
      " \n",
      "Nombre del planeta: jupiter \n",
      "Gravedad en prueba: 0.00121 m/s2  \n",
      "\n"
     ]
    }
   ],
   "source": [
    "name = \"Moon\"\n",
    "gravity = 0.00162\n",
    "planet = \"Tierra\"\n",
    "\n",
    "titulo = f'La {planet} es un planeta del sistema solar que gira alrededor de su estrella '\n",
    "\n",
    "plantilla = f\"\"\"\n",
    "Nombre del planeta: {planet} \n",
    "Gravedad en {name}: {gravity * 1000} m/s2 \n",
    "\"\"\"\n",
    "\n",
    "tamplate = f\"\"\"\" {titulo.title()} {plantilla}\"\"\"\n",
    "\n",
    "print(tamplate)\n",
    "\n",
    "\n",
    "nombre = \"prueba\"\n",
    "gravedad = 0.00121\n",
    "planeta = \"jupiter\"\n",
    "\n",
    "\n",
    "\n",
    "nuevoTemplete = \"\"\" \n",
    "Nombre del planeta: {planet} \n",
    "Gravedad en {name}: {gravity} m/s2  \n",
    "\"\"\"\n",
    "\n",
    "print(nuevoTemplete.format(planet = planeta, name = nombre, gravity=gravedad ))"
   ]
  }
 ],
 "metadata": {
  "interpreter": {
   "hash": "2e3c1e8da6e821b0193601da5a0e541c0efda9704da45b6b820f5f4c317f2def"
  },
  "kernelspec": {
   "display_name": "Python 3.9.7 64-bit",
   "language": "python",
   "name": "python3"
  },
  "language_info": {
   "codemirror_mode": {
    "name": "ipython",
    "version": 3
   },
   "file_extension": ".py",
   "mimetype": "text/x-python",
   "name": "python",
   "nbconvert_exporter": "python",
   "pygments_lexer": "ipython3",
   "version": "3.9.7"
  },
  "orig_nbformat": 4
 },
 "nbformat": 4,
 "nbformat_minor": 2
}
