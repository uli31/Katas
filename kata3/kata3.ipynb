{
 "cells": [
  {
   "cell_type": "code",
   "execution_count": 8,
   "metadata": {},
   "outputs": [
    {
     "name": "stdout",
     "output_type": "stream",
     "text": [
      "no pasa nada\n"
     ]
    }
   ],
   "source": [
    "asteroideVelocidad = 49\n",
    "if asteroideVelocidad> 25:\n",
    "    print('alerta')\n",
    "else:\n",
    "    print('no pasa nada')\n"
   ]
  },
  {
   "cell_type": "code",
   "execution_count": 11,
   "metadata": {},
   "outputs": [
    {
     "name": "stdout",
     "output_type": "stream",
     "text": [
      "un rayo de luz en el cielo\n"
     ]
    }
   ],
   "source": [
    "asteroideVelocidad = 21\n",
    "if asteroideVelocidad > 20:\n",
    "    print( 'un rayo de luz en el cielo')\n",
    "elif asteroideVelocidad == 20:\n",
    "    print( 'un rayo de luz en el cielo')\n",
    "else:\n",
    "    print( 'el cielo esta despejado')\n",
    "\n",
    "\n"
   ]
  },
  {
   "cell_type": "code",
   "execution_count": 1,
   "metadata": {},
   "outputs": [
    {
     "name": "stdout",
     "output_type": "stream",
     "text": [
      "miren un rayo de luz en el cielo\n"
     ]
    }
   ],
   "source": [
    "asteroideVelocidad = 26\n",
    "asteroiTamaño = 10\n",
    "if asteroiTamaño > 25 and asteroideVelocidad >25:\n",
    "    print('alerta un asteroide amenaza con impactar a la tierra')\n",
    "elif asteroideVelocidad >= 20:\n",
    "    print('miren un rayo de luz en el cielo')\n",
    "else:\n",
    "    print('el cielo esta limpio ')\n"
   ]
  }
 ],
 "metadata": {
  "interpreter": {
   "hash": "2e3c1e8da6e821b0193601da5a0e541c0efda9704da45b6b820f5f4c317f2def"
  },
  "kernelspec": {
   "display_name": "Python 3.9.7 64-bit",
   "language": "python",
   "name": "python3"
  },
  "language_info": {
   "codemirror_mode": {
    "name": "ipython",
    "version": 3
   },
   "file_extension": ".py",
   "mimetype": "text/x-python",
   "name": "python",
   "nbconvert_exporter": "python",
   "pygments_lexer": "ipython3",
   "version": "3.9.7"
  },
  "orig_nbformat": 4
 },
 "nbformat": 4,
 "nbformat_minor": 2
}
