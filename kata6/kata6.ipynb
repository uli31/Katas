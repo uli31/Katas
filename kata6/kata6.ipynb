{
 "cells": [
  {
   "cell_type": "code",
   "execution_count": 5,
   "metadata": {},
   "outputs": [
    {
     "name": "stdout",
     "output_type": "stream",
     "text": [
      "Mercurio\n",
      "venus\n",
      "tierra\n",
      "marte\n",
      "jupiter\n",
      "saturno\n",
      "urano\n",
      "neptuno\n"
     ]
    }
   ],
   "source": [
    "planetas =['mercurio','venus','tierra','marte','jupiter','saturno','urano','neptuno']\n",
    "\n",
    "\n",
    "for planeta in planetas :\n",
    "    print(planeta)\n"
   ]
  },
  {
   "cell_type": "code",
   "execution_count": 7,
   "metadata": {},
   "outputs": [
    {
     "name": "stdout",
     "output_type": "stream",
     "text": [
      "pluton\n"
     ]
    }
   ],
   "source": [
    "planetas.append('pluton');\n",
    "\n",
    "print (planetas[-1])"
   ]
  },
  {
   "cell_type": "code",
   "execution_count": 7,
   "metadata": {},
   "outputs": [
    {
     "name": "stdout",
     "output_type": "stream",
     "text": [
      "t\n",
      "los planetas mas cercanos del sol 4\n",
      "['mercurio', 'venus', 'tierra', 'marte']\n",
      "-------------------------------------\n",
      "['saturno', 'urano', 'neptuno']\n"
     ]
    }
   ],
   "source": [
    "planeta= input('dime el planeta')\n",
    "planetas =['mercurio','venus','tierra','marte','jupiter','saturno','urano','neptuno']\n",
    "planeta_seleccionado= planetas.index(planeta)  \n",
    "print( planeta[planeta_seleccionado] )\n",
    "\n",
    "print( 'los planetas mas cercanos del sol ' + str(planeta_seleccionado))\n",
    "print(planetas[0:planeta_seleccionado])\n",
    "\n",
    "print('-------------------------------------')\n",
    "\n",
    "print(planetas[planeta_seleccionado+1:])"
   ]
  }
 ],
 "metadata": {
  "interpreter": {
   "hash": "2e3c1e8da6e821b0193601da5a0e541c0efda9704da45b6b820f5f4c317f2def"
  },
  "kernelspec": {
   "display_name": "Python 3.9.7 64-bit",
   "language": "python",
   "name": "python3"
  },
  "language_info": {
   "codemirror_mode": {
    "name": "ipython",
    "version": 3
   },
   "file_extension": ".py",
   "mimetype": "text/x-python",
   "name": "python",
   "nbconvert_exporter": "python",
   "pygments_lexer": "ipython3",
   "version": "3.9.7"
  },
  "orig_nbformat": 4
 },
 "nbformat": 4,
 "nbformat_minor": 2
}
