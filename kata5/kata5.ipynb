{
 "cells": [
  {
   "cell_type": "code",
   "execution_count": 2,
   "metadata": {},
   "outputs": [
    {
     "name": "stdout",
     "output_type": "stream",
     "text": [
      "-628949330\n"
     ]
    }
   ],
   "source": [
    "distancia_tierra= 149597870\n",
    "distancia_jupiter=778547200 \n",
    "\n"
   ]
  },
  {
   "cell_type": "code",
   "execution_count": 6,
   "metadata": {},
   "outputs": [
    {
     "name": "stdout",
     "output_type": "stream",
     "text": [
      "628949330\n",
      "390577533.93\n"
     ]
    }
   ],
   "source": [
    "distancia_entre_planetas =  distancia_jupiter - distancia_tierra\n",
    "print( distancia_entre_planetas)\n",
    "distancia_millas=distancia_entre_planetas * 0.621\n",
    "print(distancia_millas)"
   ]
  },
  {
   "cell_type": "code",
   "execution_count": 10,
   "metadata": {},
   "outputs": [
    {
     "name": "stdout",
     "output_type": "stream",
     "text": [
      "el primer planeta debe ser el de mayor distancia \n",
      "4267200000\n",
      "2649931200.0\n"
     ]
    }
   ],
   "source": [
    "print('el primer planeta debe ser el de mayor distancia ')\n",
    "\n",
    "planeta1= int (input('dame la distancia del sol del primer planeta '))\n",
    "planeta2= int(input('dame la distancia del sol del segundo planeta '))\n",
    "\n",
    "distanciatotal= planeta1 - planeta2\n",
    "distancia_en_millas = distanciatotal * 0.621\n",
    "\n",
    "print(distanciatotal)\n",
    "print(distancia_en_millas)"
   ]
  }
 ],
 "metadata": {
  "interpreter": {
   "hash": "2e3c1e8da6e821b0193601da5a0e541c0efda9704da45b6b820f5f4c317f2def"
  },
  "kernelspec": {
   "display_name": "Python 3.9.7 64-bit",
   "language": "python",
   "name": "python3"
  },
  "language_info": {
   "codemirror_mode": {
    "name": "ipython",
    "version": 3
   },
   "file_extension": ".py",
   "mimetype": "text/x-python",
   "name": "python",
   "nbconvert_exporter": "python",
   "pygments_lexer": "ipython3",
   "version": "3.9.7"
  },
  "orig_nbformat": 4
 },
 "nbformat": 4,
 "nbformat_minor": 2
}
